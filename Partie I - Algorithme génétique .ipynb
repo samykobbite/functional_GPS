{
 "cells": [
  {
   "cell_type": "markdown",
   "id": "fbc537cd",
   "metadata": {},
   "source": [
    "# Objectifs du travail: \n",
    "\n",
    "Notre travail consiste en une implémentation d’un algorithme génétique, pour résoudre un problème d’optimisation de transport de marchandise par des camions. Ensuite, on abordera le problème du plus court chemin, en programmant un GPS, par l’utilisation de l’algorithme de Dijkstra. On comparera les résultats obtenus avec ceux de l’algorithme génétique\n",
    "\n"
   ]
  },
  {
   "cell_type": "markdown",
   "id": "b04fbe4c",
   "metadata": {},
   "source": [
    "# 1ère Partie : Algorithme génétique \n"
   ]
  },
  {
   "cell_type": "markdown",
   "id": "b2ae7412",
   "metadata": {},
   "source": [
    "## Présentation du problème :  \n",
    "\n",
    "On considère une distribution de N maisons différentes dans lesquelles il faut faire des livraisons. Un camion de livraison assure celle-ci, et dispose d’une capacité de chargement limitée. Hormis son point de départ, ce camion ne peut passer qu’une seule fois par chaque maison. Le camion doit revenir vers son point de départ, à l’entrepôt, pour reprendre de la marchandise. \n"
   ]
  },
  {
   "cell_type": "markdown",
   "id": "51d2b005",
   "metadata": {},
   "source": [
    "## Préliminaire : "
   ]
  },
  {
   "cell_type": "code",
   "execution_count": 65,
   "id": "0f892510",
   "metadata": {},
   "outputs": [],
   "source": [
    "import random as rd\n",
    "import math as math\n",
    "import statistics\n",
    "import matplotlib.pyplot as plt\n",
    "\n",
    "N = 10 #Nombre de maisons\n",
    "p = 100 #Taille de la population\n",
    "\n",
    "coordonnesMaisons=[[-91,-30],[40,46] , [-64,90] , [-16,-70] , [55,70] , [-37,69] , [13,-44] , [68,-76] , [-92,12] , [74,23]]\n",
    "\n",
    "poidsDemande=[2,3,5,1,4,6,1,2,3,2] \n",
    "capCamion=9\n",
    "\n",
    "omega=1\n",
    "\n",
    "probabiliteCroisement=1\n",
    "probabiliteMutation=1\n",
    "\n",
    "proportionGeneration = 2.75/5\n"
   ]
  },
  {
   "cell_type": "markdown",
   "id": "8aeafa3b",
   "metadata": {},
   "source": [
    "## Première Version "
   ]
  },
  {
   "cell_type": "markdown",
   "id": "b5f01558",
   "metadata": {},
   "source": [
    "### Présentation de la méthode "
   ]
  },
  {
   "cell_type": "markdown",
   "id": "7e87ed24",
   "metadata": {},
   "source": [
    "L’idée est de créer une population de solutions, que l’on fait se reproduire.\n",
    "Au fil des générations, selon le modèle de la théorie de l’évolution, une portion de la population est remplacée, \n",
    "la plus faible. Elle laisse place à sa meilleure progéniture. Au bout d’un nombre donné d’itérations, on choisit \n",
    "la meilleure solution parmi la dernière génération. Les solutions sont des listes qui contiennent les numéros des villes par lesquelles le camion passe, séparés par des zéros (qui traduisent le départ d'un nouveau camion), tout en respectant les contraintes du problème. \n"
   ]
  },
  {
   "cell_type": "markdown",
   "id": "d7f54dbe",
   "metadata": {},
   "source": [
    "### construction d'une solution de départ (de N individu)"
   ]
  },
  {
   "cell_type": "markdown",
   "id": "659cad39",
   "metadata": {},
   "source": [
    "Nous avons implémenté une fonction creeIndividu() qui prend en argument N, soit la taille d’un individu (le nombre de maisons qui doivent être visitées par l’ensemble des camions)         \n",
    "\n",
    "L’idée de cette fonction créatrice de solution est de fournir une solution initialement purement aléatoire, puis de vérifier qu’elle respecteles critères suivants               \n",
    "\n",
    ". Deux 0 ne peuvent se suivre : cela n’a aucune utilité qu’un camion fasse un tour au cours duquel  il ne rend visite à aucun client      \n",
    "\n",
    ". On ne peut pas non plus avoir 2 fois le même nombre non nul dans une même solution : on ne rend pas 2 fois visite à un même client)      \n",
    "\n",
    ". La solution commence et se termine avec des 0 : les camions partent du hangar et y retournent      "
   ]
  },
  {
   "cell_type": "markdown",
   "id": "96e3ecb4",
   "metadata": {},
   "source": [
    "Étapes de l'algorithme :   \n",
    "\n",
    "1) On crée une liste de d’éléments contenant les nombres 0 jusqu’à N  \n",
    "2) On la mélange   \n",
    "3) On ajoute aléatoirement des 0  \n",
    "4) On supprime les 0 doubles qui se suivent  \n",
    "5) On ajoute un 0 au début et à la fin   "
   ]
  },
  {
   "cell_type": "code",
   "execution_count": 66,
   "id": "cf4b2916",
   "metadata": {},
   "outputs": [],
   "source": [
    "def creeIndividu(N):\n",
    "    endroitsPossiblesZero = [ i for i in range (N)]\n",
    "\n",
    "    solution = []\n",
    "    \n",
    "    while(not solutionValide(solution)):\n",
    "        \n",
    "        #Initialise la solution avec toutes les maisons dans l'ordre\n",
    "        solution = [ i+1 for i in range(N)]\n",
    "        \n",
    "        #Mélange au hasard les routes\n",
    "        rd.shuffle(solution)\n",
    "\n",
    "        #Rajoute au hasard des 0 dans la solution\n",
    "        rd.shuffle(endroitsPossiblesZero)\n",
    "        solution.insert(endroitsPossiblesZero[0],0)\n",
    "        solution.insert(endroitsPossiblesZero[1],0)\n",
    "        solution.insert(endroitsPossiblesZero[2],0)\n",
    "        \n",
    "        #Insère des 0 au début et à la fin de la solution\n",
    "        solution.insert(0,0)\n",
    "        solution.append(0)\n",
    "                    \n",
    "        #Supprime les 0 en trop\n",
    "        j = 0\n",
    "        while ( j < (len(solution)-2) ):\n",
    "            if(solution[j]==solution[j+1] and solution[j]==0):\n",
    "                solution.pop(j)\n",
    "            j+=1\n",
    "            \n",
    "    return(solution)\n"
   ]
  },
  {
   "cell_type": "markdown",
   "id": "cb260d1e",
   "metadata": {},
   "source": [
    "Comme les solutions crées par l'algorithme précédent sont aléatoires, il convient de vérifier s'ils répondent aux contraintes de la livraison. Ainsi, on va vérifier que chaque camion n'a pas d'itinéraire qui l'oblige a livrer des courses supérieures à sa capacité. On va implémenter une fonction solutionvalide() qui se base elle-même sur 2 autres fonctions, celles qui ont respectivement pour but de vérifier que les trajets sont valides et que la capacité des camions est respectée.\n"
   ]
  },
  {
   "cell_type": "markdown",
   "id": "b15b4ebf",
   "metadata": {},
   "source": [
    "La première fonction respectTrajet() vérifie que toutes les maisons sont bien visitées une et une seule fois"
   ]
  },
  {
   "cell_type": "code",
   "execution_count": 67,
   "id": "c9ed00c9",
   "metadata": {},
   "outputs": [],
   "source": [
    "def respectTrajet(solution):\n",
    "    n = len(solution)\n",
    "    maisonsVisitees = [ False for i in range(N)]\n",
    "\n",
    "    for i in range(n): #Teste les doublons\n",
    "        if(solution[i]!=0):\n",
    "            if (maisonsVisitees[solution[i]-1]):\n",
    "                return False\n",
    "            else:\n",
    "                maisonsVisitees[solution[i]-1]=True\n",
    "    \n",
    "    for i in range(N): #Teste si chaque maison est visitée au moins une fois\n",
    "        if(not maisonsVisitees[i]):\n",
    "            return False\n",
    "            \n",
    "    return True"
   ]
  },
  {
   "cell_type": "markdown",
   "id": "3dbf70e4",
   "metadata": {},
   "source": [
    "la deuxième fonction est respectPoids(). Elle fait la somme des poids des demandes entre deux 0 consécutifs de la solution (i.e la somme des poids attribués à un seul et même camion) et vérifie ensuite que cette somme est inférieure à la capacité du camion.\n"
   ]
  },
  {
   "cell_type": "code",
   "execution_count": 68,
   "id": "08ee1354",
   "metadata": {},
   "outputs": [],
   "source": [
    "def respectPoids(solution): #Capcamion = Poids max par camion - Poidsdemande=liste des poids de chaque maison\n",
    "    somme = 0\n",
    "    n = len(solution)\n",
    "    i=0\n",
    "    while(i<n and somme<=capCamion):\n",
    "        if(solution[i]==0):\n",
    "            somme=0\n",
    "        else:\n",
    "            maison=solution[i]-1\n",
    "            somme += poidsDemande[maison]\n",
    "        i+=1\n",
    "        \n",
    "    return(somme <= capCamion)"
   ]
  },
  {
   "cell_type": "markdown",
   "id": "f2ea73a0",
   "metadata": {},
   "source": [
    "Ainsi, on a la fonction solutionValide()"
   ]
  },
  {
   "cell_type": "code",
   "execution_count": 69,
   "id": "4d3f7019",
   "metadata": {},
   "outputs": [],
   "source": [
    "def solutionValide(solution):\n",
    "    if(solution==[]):\n",
    "        return(False)\n",
    "    else:\n",
    "        return( respectPoids(solution) and respectTrajet(solution) )\n"
   ]
  },
  {
   "cell_type": "markdown",
   "id": "4afdbb92",
   "metadata": {},
   "source": [
    "### Classification des individus au sein d’une population"
   ]
  },
  {
   "cell_type": "markdown",
   "id": "bd4fa2aa",
   "metadata": {},
   "source": [
    "On attribue à chaque individu un cout propre\n",
    "Une matrice de cout (symétrique à diagonale nulle) représente le cout de trajet (la distance par exemple) entre les villes i et j : $ C_{i,j} = C_{j,i} $ est la distance entre i et j\n",
    "Un poids supplémentaire est ajouté à chaque fois que l’on reviens au hangar\n"
   ]
  },
  {
   "cell_type": "markdown",
   "id": "4898072a",
   "metadata": {},
   "source": [
    "Equation du coût : $$F(x) = \\omega*N(x)+ S(C_{i,j})$$"
   ]
  },
  {
   "cell_type": "markdown",
   "id": "156dde81",
   "metadata": {},
   "source": [
    "On calcule d'abord la matrice coût "
   ]
  },
  {
   "cell_type": "code",
   "execution_count": 70,
   "id": "d27f039e",
   "metadata": {},
   "outputs": [
    {
     "name": "stdout",
     "output_type": "stream",
     "text": [
      "[[0, 151, 123, 85, 176, 112, 104, 165, 42, 173], [151, 0, 112, 128, 28, 80, 93, 125, 136, 41], [123, 112, 0, 167, 120, 34, 154, 212, 82, 153], [85, 128, 167, 0, 156, 140, 38, 84, 111, 129], [176, 28, 120, 156, 0, 92, 121, 146, 158, 50], [112, 80, 34, 140, 92, 0, 123, 179, 79, 120], [104, 93, 154, 38, 121, 123, 0, 63, 119, 90], [165, 125, 212, 84, 146, 179, 63, 0, 182, 99], [42, 136, 82, 111, 158, 79, 119, 182, 0, 166], [173, 41, 153, 129, 50, 120, 90, 99, 166, 0]]\n"
     ]
    }
   ],
   "source": [
    "matricecout = []\n",
    "for i in range(N):\n",
    "    distances = [] \n",
    "    for j in range(N):\n",
    "        distances.append( int( math.sqrt ( (coordonnesMaisons[i][0]-coordonnesMaisons[j][0])**2 + (coordonnesMaisons[i][1]-coordonnesMaisons[j][1])**2 ) ) )\n",
    "    matricecout.append(distances)\n",
    "\n",
    "print(matricecout)"
   ]
  },
  {
   "cell_type": "markdown",
   "id": "442948de",
   "metadata": {},
   "source": [
    "Les fonctions nbrVehicules ( ) et coutsolution ( ) nous donnent respectivement $N(x)$ et $F(x)$ pour une solution\n"
   ]
  },
  {
   "cell_type": "markdown",
   "id": "5fce4f18",
   "metadata": {},
   "source": [
    "La fonction nbrVehicules ( ) nous donne le nombre de camions utilisés, qui est égale au nombre de trajets différents, i.e au (nombre de 0) - 1 présent dans la solution"
   ]
  },
  {
   "cell_type": "code",
   "execution_count": 71,
   "id": "72efc657",
   "metadata": {},
   "outputs": [],
   "source": [
    "def nbrvehicules(solution):\n",
    "    n = len(solution)\n",
    "    somme =0\n",
    "    for i in range(n):\n",
    "        if solution[i]==0:\n",
    "            somme +=1\n",
    "    somme -=1\n",
    "    return somme"
   ]
  },
  {
   "cell_type": "markdown",
   "id": "7b3c01c7",
   "metadata": {},
   "source": [
    "On calcule le coût de la solution, en se donnant la matrice de coût, et un facteur omega"
   ]
  },
  {
   "cell_type": "code",
   "execution_count": 73,
   "id": "5a34cbe3",
   "metadata": {},
   "outputs": [],
   "source": [
    "def coutsolution(solution):\n",
    "    n = len(solution)\n",
    "    cout = omega*nbrvehicules(solution)\n",
    "    for i in range(n-1):\n",
    "        cout += matricecout[solution[i]-1][solution[i+1]-1]\n",
    "    return cout"
   ]
  },
  {
   "cell_type": "markdown",
   "id": "bd402049",
   "metadata": {},
   "source": [
    "Pour sélectionner les meilleurs individus nous choisissons de d’abord les ranger dans l’ordre croissant selon le critère de coût."
   ]
  },
  {
   "cell_type": "markdown",
   "id": "34472be1",
   "metadata": {},
   "source": [
    "Pour ce faire, on considère une population (en d’autres termes une liste de solution)"
   ]
  },
  {
   "cell_type": "code",
   "execution_count": 74,
   "id": "4983b59e",
   "metadata": {},
   "outputs": [],
   "source": [
    "def initPopulation(p,N):\n",
    "    population = []\n",
    "    for i in range(p):\n",
    "        population.append(creeIndividu(N))\n",
    "    return population"
   ]
  },
  {
   "cell_type": "markdown",
   "id": "b2f4a5c3",
   "metadata": {},
   "source": [
    "Les solutions sont rangées dans l’ordre décroissant de coût.\n",
    "La sélection des individus se fait à l’aide des fonctions listecoutpopulation( ) et tripopulation( )"
   ]
  },
  {
   "cell_type": "markdown",
   "id": "c6bf2dee",
   "metadata": {},
   "source": [
    "On commence par calculer le coût de toute la population par listecoutpopulation( ) "
   ]
  },
  {
   "cell_type": "code",
   "execution_count": 75,
   "id": "bbbad63f",
   "metadata": {},
   "outputs": [],
   "source": [
    "def listecoutpopulation(population):\n",
    "    n = len(population)\n",
    "    L=[]\n",
    "    for i in range(n):\n",
    "        L.append (coutsolution(population[i]))\n",
    "    return L"
   ]
  },
  {
   "cell_type": "markdown",
   "id": "fb0cf065",
   "metadata": {},
   "source": [
    "Enfin, on recrée une deuxième liste qui cette fois contient effectivement les solutions dans l’ordre croissant selon le critère de coût.\n",
    "Pour ce faire, on parcourt la liste des coûts, triée par la fonction sort, en même que celle des solutions et lorsque l’on trouve une solution qui a le coût recherché, on l’ajoute à notre nouvelle liste et on l’enlève de l’ancienne"
   ]
  },
  {
   "cell_type": "code",
   "execution_count": 76,
   "id": "2ff66088",
   "metadata": {},
   "outputs": [],
   "source": [
    "def tripopulation(population):\n",
    "    K=[]\n",
    "    n =len(population)\n",
    "    L = listecoutpopulation(population)\n",
    "    L.sort()\n",
    "    for i in range(len(population)):\n",
    "        j=0\n",
    "        while j < len(population) and coutsolution(population[j]) != L[i]:\n",
    "            j +=1\n",
    "        K.append(population[j])\n",
    "        del population[j]\n",
    "    return K"
   ]
  },
  {
   "cell_type": "markdown",
   "id": "9fcf8a32",
   "metadata": {},
   "source": [
    "### Passage d’une génération à l’autre"
   ]
  },
  {
   "cell_type": "markdown",
   "id": "7f311d3a",
   "metadata": {},
   "source": [
    "#### Opérateurs génétiques : Croissements et mutations"
   ]
  },
  {
   "cell_type": "markdown",
   "id": "885bcf54",
   "metadata": {},
   "source": [
    "##### Croisements à un point :  (ici 4ème)   \n",
    "Exemple :   \n",
    "  \n",
    "A=3040 | 153010    \n",
    "B=1020 | 1351040   \n",
    "\n",
    "croisement : \n",
    "  \n",
    "A’ = 3040 | 1351040    \n",
    "B’= 1020  | 15301\n",
    "\n",
    "##### Mutation\n",
    "\n",
    "a) Opérateur asexué : il n’a besoin que d’un seul parent pour générer un chromosome enfant.\n",
    "\n",
    "b) Permet d’éviter les solutions uniformes et donc, les optimums locaux.\n",
    "\n",
    "c) On choisit un gène quelconque et on le modifie, on le fait sur plusieurs gènes afin d’avoir des chances d’obtenir une solution valide"
   ]
  },
  {
   "cell_type": "markdown",
   "id": "0247a059",
   "metadata": {},
   "source": [
    "#### Modèle de recombinaison"
   ]
  },
  {
   "cell_type": "markdown",
   "id": "3a10f0de",
   "metadata": {},
   "source": [
    "1) On regroupe la génération n en paires   \n",
    "2) Pour chaque paire on effectue un croisement si possible (500 essais) avec une probabilité P1 élevée  \n",
    "3) Aux individus obtenus on applique une mutation avec une probabilité P2 faible   \n",
    "3) On obtient alors la génération n+1   "
   ]
  },
  {
   "cell_type": "markdown",
   "id": "5baa37fd",
   "metadata": {},
   "source": [
    "On réalise plusieurs itérations du croisement, ici 500 fois, car il y’a peu de chances d’avoir un bon croisement du premier coup. On se base sur la méthode du croisement à un seul point dans cette version de l’algorithme. Nous prenons donc une partie d’un des individus parents, puis nous prenons la partie manquante au deuxième parent. S’il n’y a pas de croisement, on renvoie le premier parent, qui est celui avec le meilleur score.\n",
    "Après avoir effectué ce croisement, on réalise la mutation sur un nombre aléatoire de gènes de l’individu, car il y a, comme nous l’avons déjà dit, peu de chance que l’individu crée soit une solution valide du problème.\n",
    "Ce code permet de remplacer les gènes de l’individu par un autre aléatoire, i.e. remplace une maison visitée par une autre."
   ]
  },
  {
   "cell_type": "code",
   "execution_count": 77,
   "id": "f5d54211",
   "metadata": {},
   "outputs": [],
   "source": [
    "def recombinaison(individu_1,individu_2): #On suppose qu'à ce moment, la population est ordonnée avec les meilleures solutions en premier\n",
    "        \n",
    "    individu_3=[]\n",
    "    \n",
    "    recombinaisonEffectuee = 0\n",
    "    recombinaisonTotale = 500\n",
    "    \n",
    "    while(recombinaisonEffectuee < recombinaisonTotale and (not solutionValide(individu_3))) :\n",
    "        \n",
    "        #print(\"Recombinaison numéro \" + str(recombinaisonEffectuee))\n",
    "        \n",
    "        individu_3=[]\n",
    "\n",
    "        if(rd.random()<probabiliteCroisement):\n",
    "            \n",
    "            #Croisement à un point:\n",
    "            pointDeCroisement = rd.randrange(2,min( len(individu_1) , len(individu_2) ) - 2 )\n",
    "            \n",
    "            #print(\"Point de Croisement : \" + str(pointDeCroisement))\n",
    "\n",
    "            for j in range(pointDeCroisement):\n",
    "                individu_3.append(individu_1[j])\n",
    "            for j in range(pointDeCroisement,len(individu_2)):\n",
    "                individu_3.append(individu_2[j])\n",
    "\n",
    "        else:\n",
    "            for j in range(len(individu_1)):\n",
    "                individu_3.append(individu_1[j])\n",
    "                \n",
    "        #print(\"Après croisement : \")        \n",
    "        #print(individu_3)\n",
    "        \n",
    "        if(rd.random()<probabiliteMutation):\n",
    "            \n",
    "            #print(\"Mutation!\")\n",
    "            \n",
    "            nombreDeMutation = rd.randrange(0,len(individu_3)) #Nombre de mutations à faire\n",
    "            \n",
    "            for j in range(nombreDeMutation) :\n",
    "                individu_3[rd.randrange(1,len(individu_3)-1)] = rd.randrange(0,N)\n",
    "            \n",
    "            #print(individu_3)\n",
    "\n",
    "        recombinaisonEffectuee += 1\n",
    "            \n",
    "    \n",
    "    if(not solutionValide(individu_3)):\n",
    "        #print(\"Pas de solution\")\n",
    "        individu_3 = individu_1\n",
    "              \n",
    "    return(individu_3)"
   ]
  },
  {
   "cell_type": "markdown",
   "id": "ae8834be",
   "metadata": {},
   "source": [
    "cette fonction permet de créer une nouvelle population a partir de la population initiale. Pour ce faire, on segmente la population en deux, selon une proportion donnée. Cette proportion sera conservée dans la nouvelle. Ensuite, on rempli le reste de la nouvelle population avec la descendance issue du croisement du reste des individus de la population initiale. "
   ]
  },
  {
   "cell_type": "code",
   "execution_count": 78,
   "id": "8dede413",
   "metadata": {},
   "outputs": [],
   "source": [
    "def selectionPopulation(population):\n",
    "    n=len(population)\n",
    "    nouvelle_population=[]\n",
    "    for i in range( int(n * proportionGeneration )):\n",
    "        nouvelle_population.append(population[i])\n",
    "    j=0\n",
    "    while(len(nouvelle_population) != p ):\n",
    "        nouvelle_population.append ( recombinaison(population[j],population[j+1] ) )\n",
    "        j+=2\n",
    "    return(nouvelle_population)"
   ]
  },
  {
   "cell_type": "markdown",
   "id": "fa925537",
   "metadata": {},
   "source": [
    "On observe, cependant rapidement un effet palier. Pour résoudre ça, on choisit d'introduire dix (ou un autre nombre arbitraire) nouveaux individus. Cela pourrait paraitre, à priori, contreproductif étant donné que les individus aléatoires ont plus de chance d'avoir un coût élévé. Cependant, il se trouve qu'intégrer des individus aléatoires dans la population, même s'il sont \"moins bons\" permet de la diversifier et donc d'éviter d'avoir des individus trop ressemblants, qui en les croisant amènent à un effet palier. "
   ]
  },
  {
   "cell_type": "code",
   "execution_count": 79,
   "id": "1e8f2550",
   "metadata": {},
   "outputs": [],
   "source": [
    "def selectionPopulation2(population):\n",
    "    n=len(population)\n",
    "    nouvelle_population=[]\n",
    "    for i in range( int(n * proportionGeneration )):\n",
    "        nouvelle_population.append(population[i])\n",
    "    j=0\n",
    "    while(len(nouvelle_population) != p - 10 ):\n",
    "        nouvelle_population.append ( recombinaison(population[j],population[j+1] ) )\n",
    "        j+=2\n",
    "    while(len(nouvelle_population) != p):\n",
    "        nouvelle_population.append(creeIndividu(N))\n",
    "        \n",
    "        \n",
    "    return(nouvelle_population)"
   ]
  },
  {
   "cell_type": "markdown",
   "id": "b164ce63",
   "metadata": {},
   "source": [
    "### Regroupement de l'algorithme "
   ]
  },
  {
   "cell_type": "markdown",
   "id": "7979a6cc",
   "metadata": {},
   "source": [
    "##### On reprend les fonctions déjà crées afin de coordonner le tout selon les étapes suivantes :\n",
    "\n",
    "1) Initialisation d’une population aléatoire  \n",
    "\n",
    "2) Calcul du cout de chaque individu   \n",
    "\n",
    "3) Sélection des meilleurs  \n",
    "\n",
    "4) Recombinaison et mutations afin de créer une nouvelle génération   \n",
    "\n",
    "Au bout d’un nombre d’itérations fixées, on choisit le meilleur individu de l’ultime génération comme solution optimisée au problème\n"
   ]
  },
  {
   "cell_type": "code",
   "execution_count": 80,
   "id": "3fd18abd",
   "metadata": {},
   "outputs": [
    {
     "name": "stdout",
     "output_type": "stream",
     "text": [
      "Génération 0 : Coût = 15.1547\n",
      "Génération 100 : Coût = 12.419400000000001\n",
      "Génération 200 : Coût = 12.419400000000001\n",
      "Génération 300 : Coût = 12.3156\n",
      "Génération 400 : Coût = 12.22\n",
      "Génération 500 : Coût = 12.11\n",
      "Génération 600 : Coût = 12.11\n",
      "Génération 700 : Coût = 12.130799999999999\n",
      "Génération 800 : Coût = 12.11\n",
      "Génération 900 : Coût = 12.11\n",
      "Génération 1000 : Coût = 12.11\n",
      "Génération 1100 : Coût = 12.11\n",
      "Génération 1200 : Coût = 12.1216\n",
      "Génération 1300 : Coût = 12.11\n",
      "Génération 1400 : Coût = 12.11\n",
      "Génération 1500 : Coût = 12.11\n",
      "Génération 1600 : Coût = 12.1174\n",
      "Génération 1700 : Coût = 12.1208\n",
      "Génération 1800 : Coût = 12.11\n",
      "Génération 1900 : Coût = 12.11\n",
      "Génération 2000 : Coût = 12.11\n",
      "Génération 2100 : Coût = 12.11\n",
      "Génération 2200 : Coût = 12.1208\n",
      "Génération 2300 : Coût = 12.11\n",
      "Génération 2400 : Coût = 12.11\n",
      "Génération 2500 : Coût = 12.11\n",
      "Génération 2600 : Coût = 12.11\n",
      "Génération 2700 : Coût = 12.11\n",
      "Génération 2800 : Coût = 12.1359\n",
      "Génération 2900 : Coût = 12.11\n",
      "Génération 3000 : Coût = 12.11\n",
      "Génération 3100 : Coût = 12.130799999999999\n",
      "Génération 3200 : Coût = 12.11\n",
      "Génération 3300 : Coût = 12.1259\n",
      "Génération 3400 : Coût = 12.11\n",
      "Génération 3500 : Coût = 12.11\n",
      "Génération 3600 : Coût = 12.11\n",
      "Génération 3700 : Coût = 12.11\n",
      "Génération 3800 : Coût = 12.11\n",
      "Génération 3900 : Coût = 12.11\n",
      "Génération 4000 : Coût = 12.1159\n",
      "Génération 4100 : Coût = 12.11\n",
      "Génération 4200 : Coût = 12.11\n",
      "Génération 4300 : Coût = 12.11\n",
      "Génération 4400 : Coût = 12.131400000000001\n",
      "Génération 4500 : Coût = 12.11\n",
      "Génération 4600 : Coût = 12.125399999999999\n",
      "Génération 4700 : Coût = 12.11\n",
      "Génération 4800 : Coût = 12.1174\n",
      "Génération 4900 : Coût = 12.11\n",
      "Génération 5000 : Coût = 12.11\n",
      "Génération 5100 : Coût = 12.11\n",
      "Génération 5200 : Coût = 12.11\n",
      "Génération 5300 : Coût = 12.11\n",
      "Génération 5400 : Coût = 12.11\n",
      "Génération 5500 : Coût = 12.11\n",
      "Génération 5600 : Coût = 12.11\n",
      "Génération 5700 : Coût = 12.11\n",
      "Génération 5800 : Coût = 12.11\n",
      "Génération 5900 : Coût = 12.116\n",
      "Génération 6000 : Coût = 12.11\n",
      "Génération 6100 : Coût = 12.1148\n",
      "Génération 6200 : Coût = 12.11\n",
      "Génération 6300 : Coût = 12.11\n",
      "Génération 6400 : Coût = 12.126\n",
      "Génération 6500 : Coût = 12.124600000000001\n",
      "Génération 6600 : Coût = 12.11\n",
      "Génération 6700 : Coût = 12.11\n",
      "Génération 6800 : Coût = 12.125399999999999\n",
      "Génération 6900 : Coût = 12.111099999999999\n",
      "Génération 7000 : Coût = 12.11\n",
      "Génération 7100 : Coût = 12.11\n",
      "Génération 7200 : Coût = 12.11\n",
      "Génération 7300 : Coût = 12.11\n",
      "Génération 7400 : Coût = 12.11\n",
      "Génération 7500 : Coût = 12.11\n",
      "Génération 7600 : Coût = 12.11\n",
      "Génération 7700 : Coût = 12.11\n",
      "Génération 7800 : Coût = 12.131400000000001\n",
      "Génération 7900 : Coût = 12.11\n",
      "Génération 8000 : Coût = 12.11\n",
      "Génération 8100 : Coût = 12.1208\n",
      "Génération 8200 : Coût = 12.11\n",
      "Génération 8300 : Coût = 12.11\n",
      "Génération 8400 : Coût = 12.11\n",
      "Génération 8500 : Coût = 12.11\n",
      "Génération 8600 : Coût = 12.1148\n",
      "Génération 8700 : Coût = 12.11\n",
      "Génération 8800 : Coût = 12.130799999999999\n",
      "Génération 8900 : Coût = 12.11\n",
      "Génération 9000 : Coût = 12.11\n",
      "Génération 9100 : Coût = 12.1294\n",
      "Génération 9200 : Coût = 12.11\n",
      "Génération 9300 : Coût = 12.125399999999999\n",
      "Génération 9400 : Coût = 12.11\n",
      "Génération 9500 : Coût = 12.11\n",
      "Génération 9600 : Coût = 12.11\n",
      "Génération 9700 : Coût = 12.11\n",
      "Génération 9800 : Coût = 12.131400000000001\n",
      "Génération 9900 : Coût = 12.11\n",
      "[0, 2, 5, 0, 6, 1, 4, 0, 3, 9, 7, 0, 8, 10, 0]\n"
     ]
    },
    {
     "data": {
      "image/png": "[encoded data removed]",
      "text/plain": [
       "<Figure size 432x288 with 1 Axes>"
      ]
     },
     "metadata": {
      "needs_background": "light"
     },
     "output_type": "display_data"
    }
   ],
   "source": [
    "population = initPopulation(p,N)\n",
    "\n",
    "NbGenerations = 10000\n",
    "\n",
    "coutPopulations=[] #Représente la moyenne des couts de chaque génération\n",
    "\n",
    "MeilleurCheminGeneration = [] #Prend le meilleur chemin toutes les 100 générations\n",
    "\n",
    "for i in range( NbGenerations ):\n",
    "    \n",
    "    cout = statistics.mean( listecoutpopulation(population) ) / 100\n",
    "    coutPopulations.append( cout )\n",
    "    \n",
    "    if(i%100==0):\n",
    "        print(\"Génération \" + str(i) + \" : Coût = \" + str(cout) )\n",
    "        MeilleurCheminGeneration.append(population[0])\n",
    "    \n",
    "    pop1 = tripopulation(population)\n",
    "    pop2 = selectionPopulation(pop1)\n",
    "    \n",
    "    population.clear()\n",
    "    \n",
    "    for j in range(p):\n",
    "        population.append(pop2[j])\n",
    "\n",
    "x=[i for i in range(NbGenerations)]\n",
    "\n",
    "print(tripopulation(population)[0])\n",
    "\n",
    "\n",
    "#affichage : \n",
    "axes = plt.gca()\n",
    "axes.set_ylim([0,15])\n",
    "\n",
    "plt.xlabel(\"Générations\")\n",
    "plt.ylabel(\"Fitness\")\n",
    "\n",
    "plt.grid(True)\n",
    "\n",
    "plt.plot(x,coutPopulations)\n",
    "plt.show()"
   ]
  },
  {
   "cell_type": "markdown",
   "id": "f445ac73",
   "metadata": {},
   "source": [
    "### Résultats et remarques "
   ]
  },
  {
   "cell_type": "markdown",
   "id": "19396801",
   "metadata": {},
   "source": [
    "Nous pouvons faire plusieurs tests en variant les paramètres pour voir lesquels influencent sur la vitesse de convergence, ainsi que sur la qualité des chemins proposés"
   ]
  },
  {
   "cell_type": "markdown",
   "id": "368fe14e",
   "metadata": {},
   "source": [
    "### Effet palier"
   ]
  },
  {
   "cell_type": "markdown",
   "id": "5ae4c2e3",
   "metadata": {},
   "source": [
    "On remarque aussi qu’il existe de longs paliers au cours  desquels il n’y pas d’amélioration du fitness au sein de la population.\n",
    "On peut certainement ici voir le début des limites du modèle génétique pour cet exercice (bien qu’il est donné de très bon résultats).\n",
    "En effet, le modèle de croisement en un point n’est pas forcément adapté à l’exercice : lorsque l’on prend 2 solutions et que l’on en crée deux autres en fusionant les moitiés respectives des premières, il n’est pas garanti que le résultat soit une solution. En effet la capacité du camion étant limitée il se peut (et c’est même probable) que l’on obtienne en concaténant deux moitiés de solutions un chemin trop long pour la capacité du camion. Le nombre de solutions effectivement issues de croisement qui améliore le fitness se trouve ainsi irrémédiablement diminué ce qui explique la présence de minimas locaux qui se traduisent par la visualisation d’un effet palier."
   ]
  },
  {
   "cell_type": "markdown",
   "id": "ae53178d",
   "metadata": {},
   "source": [
    "### Deuxième tentative : "
   ]
  },
  {
   "cell_type": "markdown",
   "id": "39aa13a1",
   "metadata": {},
   "source": [
    "Pour cette tentative on randomisé la map de départ, et on a essayer d'améliorer le croisement et la mutation pour éviter les effets palier et converger plus vite. Malheureusement, on a pas eu le temps de bien finaliser cette amélioration"
   ]
  },
  {
   "cell_type": "code",
   "execution_count": null,
   "id": "04cd79f2",
   "metadata": {},
   "outputs": [],
   "source": [
    "import numpy as np\n",
    "import random as rd\n",
    "from matplotlib import pyplot as plt\n",
    "\n",
    "def mutation(L):\n",
    "    n = len(L)\n",
    "    a,b = rd.randint(1,n-1),rd.randint(1,n-1)\n",
    "    c = L[a]\n",
    "    L[a] = L[b]\n",
    "    L[b] = c\n",
    "    return L\n",
    "\n",
    "\n",
    "\n",
    "L=[0,3,7,2,1,4,6,5]\n",
    "\n",
    "\n",
    "def placedepots(N, taille_carte):\n",
    "    L = []\n",
    "    for i in range(N):\n",
    "        L.append([rd.random(), rd.random()])\n",
    "    for j in range(N):\n",
    "        L[j][0] = int(L[j][0]*taille_carte)\n",
    "        L[j][1] = int(L[j][1]*taille_carte)\n",
    "    return L\n",
    "\n",
    "\n",
    "\n",
    "\n",
    "def affichage_maisons(L):\n",
    "    for i in range(len(L)):\n",
    "        plt.plot(L[i][0], L[i][1], marker = \"o\")\n",
    "    plt.show()\n",
    "\n",
    "\n",
    "\n",
    "x=np.linspace(0,5,50)\n",
    "y=np.sin(2 * np.pi * x)\n",
    "\n",
    "\n",
    "\n",
    "def indice_break(L1,L2) :\n",
    "    n1 = len(L1)\n",
    "    n2 = len(L2)\n",
    "    n3 = min(n1,n2)\n",
    "    somme = 0\n",
    "    for i in range(n3):\n",
    "        if L1[i] == L2[i]:\n",
    "            somme +=1\n",
    "        else :\n",
    "            return somme\n",
    "\n",
    "\n",
    "\n",
    "def aide_croisement(population):\n",
    "    K = []\n",
    "    while len(population) > 1:\n",
    "        partenaire = 0\n",
    "        taille_max = 0\n",
    "        for j in range(1, len(population)):\n",
    "            if indice_break(population[0], population[j])> taille_max:\n",
    "                partenaire = j\n",
    "                taille_max = indice_break(population[0], population[j])\n",
    "        K.append([population[0],population[partenaire],taille_max])\n",
    "        population.pop(partenaire)\n",
    "        population.pop(0)\n",
    "    return K\n",
    "\n",
    "## test unitaire pour la fonction aide_croisement : \n",
    "\n",
    "assert len(aide_croisement(initPopulation(100,100))) == len((initPopulation(100,100)))//2\n",
    "\n",
    "\n",
    "def tri3(L):\n",
    "    for i in range(len(L)):\n",
    "        for j in range(i,len(L)):\n",
    "            if L[j][2]>L[i][2]:\n",
    "                c = L[i]\n",
    "                L[i] = L[j]\n",
    "                L[j] = c\n",
    "    return L\n",
    "\n",
    "\n",
    "\n",
    "def tri_3(tab):\n",
    "    n = len(tab)\n",
    "    for i in range(n):\n",
    "        for j in range(0, n-i-1):\n",
    "            if tab[j][2] < tab[j+1][2] :\n",
    "                tab[j], tab[j+1] = tab[j+1], tab[j]\n",
    "    return tab\n",
    "\n",
    "\n",
    "def croisement(p1, p2, point_cr):\n",
    "    L1 = []\n",
    "    L2 = []\n",
    "    for i in range(point_cr):\n",
    "        L1.append(p1[i])\n",
    "        L2.append(p2[i])\n",
    "    for i in range(point_cr,len(p1)):\n",
    "        L2.append(p1[i])\n",
    "    for i in range(point_cr, len(p2)):\n",
    "        L1.append(p2[i])\n",
    "\n",
    "        #print(\"Mutation!\")\n",
    "    L1=mutation(L1)\n",
    "    while(not solutionValide(L1)):\n",
    "        L1 = mutation(L1)\n",
    "\n",
    "\n",
    "        #print(\"Mutation!\")\n",
    "    L2=mutation(L2)\n",
    "    while(not solutionValide(L2)):\n",
    "            L2=mutation(L2)\n",
    "    return(L1, L2)\n",
    "\n",
    "\n",
    "# p individus --> P/2 paires ---> un certain nombre en K --->\n",
    "\n",
    "\n",
    "\n",
    "\n",
    "def si_croisement(pop, seuil):\n",
    "    # ici on suppose que la population est déja triée selon la fonction tri3\n",
    "    K = []\n",
    "\n",
    "    i = 0\n",
    "    while pop[i][2] >= seuil and i!= len(pop)-1:\n",
    "        A = croisement(pop[i][0], pop[i][1],pop[i][2])\n",
    "        K.append(A[0])\n",
    "        K.append(A[1])\n",
    "        i += 1\n",
    "    J = []\n",
    "    for i in range(int(len(pop)-(len(K)/2))):\n",
    "        J.append(pop[i+len(K)//2][0])\n",
    "        J.append(pop[i+len(K)//2][1])\n",
    "    K= K+J\n",
    "\n",
    "    return (K)"
   ]
  }
 ],
 "metadata": {
  "kernelspec": {
   "display_name": "Python 3",
   "language": "python",
   "name": "python3"
  },
  "language_info": {
   "codemirror_mode": {
    "name": "ipython",
    "version": 3
   },
   "file_extension": ".py",
   "mimetype": "text/x-python",
   "name": "python",
   "nbconvert_exporter": "python",
   "pygments_lexer": "ipython3",
   "version": "3.8.8"
  }
 },
 "nbformat": 4,
 "nbformat_minor": 5
}
